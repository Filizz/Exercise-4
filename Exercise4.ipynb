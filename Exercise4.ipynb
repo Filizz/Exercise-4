{
 "cells": [
  {
   "cell_type": "markdown",
   "id": "21e0a035",
   "metadata": {},
   "source": [
    "# 9. Numpy"
   ]
  },
  {
   "cell_type": "markdown",
   "id": "f48bf466",
   "metadata": {},
   "source": [
    "# Exercise 9.1: Matrix operations"
   ]
  },
  {
   "cell_type": "code",
   "execution_count": null,
   "id": "89c5ed28",
   "metadata": {},
   "outputs": [],
   "source": [
    "from scipy.linalg import toeplitz\n",
    "import numpy as np\n",
    "import time\n",
    "n = 200\n",
    "m = 500\n",
    "\n",
    "A = np.random.normal(size=(n, m))\n",
    "B = toeplitz(range(m))\n",
    "\n",
    "print(A+A)\n",
    "print(np.matmul(A, A.T))\n",
    "print(np.matmul(A.T, A))\n",
    "print(np.matmul(A, B))\n",
    "\n",
    "\n",
    "def compute_with_constant(A, B, constant):\n",
    "    return np.matmul(A, (B - constant*np.eye(m)))"
   ]
  },
  {
   "cell_type": "markdown",
   "id": "99ae87a1",
   "metadata": {},
   "source": [
    "# Exercise 9.2: Solving a linear system"
   ]
  },
  {
   "cell_type": "code",
   "execution_count": null,
   "id": "60922823",
   "metadata": {},
   "outputs": [],
   "source": [
    "b = np.random.random(size=(m,1))\n",
    "x = np.linalg.solve(B,b)\n",
    "print(\"Bx=b:\")\n",
    "print(\"b:\",b)\n",
    "print(\"x:\",x)"
   ]
  },
  {
   "cell_type": "markdown",
   "id": "0cb7574d",
   "metadata": {},
   "source": [
    "# Exercise 9.3: Norms"
   ]
  },
  {
   "cell_type": "code",
   "execution_count": null,
   "id": "6a8c12de",
   "metadata": {},
   "outputs": [],
   "source": [
    "\n",
    "print(\"Frobenius norm of A:\", np.linalg.norm(A, ord = 'fro'))\n",
    "print(\"inﬁnity norm of B:\", np.linalg.norm(B, ord = np.inf))\n",
    "print(\"The smallest singular of B:\", min(np.linalg.svd(B, True, False)))\n"
   ]
  },
  {
   "cell_type": "markdown",
   "id": "f00963c2",
   "metadata": {},
   "source": [
    "# Exercise 9.4: Power iteration"
   ]
  },
  {
   "cell_type": "code",
   "execution_count": null,
   "id": "855746a5",
   "metadata": {},
   "outputs": [],
   "source": [
    "Z = np.random.normal(size=(n, n))\n",
    "# eigvals, eigvts = np.linalg.eig(Z)\n",
    "# print(max(eigvals))\n",
    "stop = 1e-8\n",
    "\n",
    "\n",
    "def power_iteration(Z, stop):\n",
    "    u = np.random.normal(size=[len(Z)]).transpose()\n",
    "    u = u/np.max(u)\n",
    "    v = u.copy()\n",
    "    eigen_change = np.inf\n",
    "    eigen_val = np.max(v)\n",
    "\n",
    "    iteration = 0\n",
    "    s_time = time.clock()\n",
    "    while abs(eigen_change) > stop:\n",
    "        v = np.matmul(Z, u)\n",
    "        max_v = np.max(v)\n",
    "        eigen_change = eigen_val - max_v\n",
    "        eigen_val = max_v\n",
    "        u = v/max_v\n",
    "        iteration += 1\n",
    "    print(\"The result is {}\".format(np.allclose(np.matmul(Z, u), eigen_val*u)))\n",
    "    print(\"Total iteration: {}\".format(iteration))\n",
    "    print(\"Total time: {}s\".format(time.clock() - s_time))"
   ]
  }
 ],
 "metadata": {
  "kernelspec": {
   "display_name": "Python 3 (ipykernel)",
   "language": "python",
   "name": "python3"
  },
  "language_info": {
   "codemirror_mode": {
    "name": "ipython",
    "version": 3
   },
   "file_extension": ".py",
   "mimetype": "text/x-python",
   "name": "python",
   "nbconvert_exporter": "python",
   "pygments_lexer": "ipython3",
   "version": "3.10.2"
  }
 },
 "nbformat": 4,
 "nbformat_minor": 5
}
